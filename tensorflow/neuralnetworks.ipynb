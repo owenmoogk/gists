{
 "cells": [
  {
   "cell_type": "code",
   "execution_count": 35,
   "metadata": {},
   "outputs": [],
   "source": [
    "import tensorflow as tf\n",
    "from tensorflow import keras\n",
    "\n",
    "import numpy as np\n",
    "import matplotlib.pyplot as plt"
   ]
  },
  {
   "cell_type": "code",
   "execution_count": 36,
   "metadata": {},
   "outputs": [
    {
     "name": "stdout",
     "output_type": "stream",
     "text": [
      "(60000, 28, 28)\n"
     ]
    }
   ],
   "source": [
    "# this is just for testing, and making my first neural network.\n",
    "\n",
    "# will be using the fashion dataset from MNIST, built into keras\n",
    "\n",
    "fashionDataset = keras.datasets.fashion_mnist\n",
    "\n",
    "(trainImages, trainLabels), (testImages, testLabels) = fashionDataset.load_data()\n",
    "\n",
    "print(trainImages.shape) # 60000 images, 28 by 28 pixels each"
   ]
  },
  {
   "cell_type": "code",
   "execution_count": 37,
   "metadata": {},
   "outputs": [
    {
     "data": {
      "text/plain": [
       "array([9, 0, 0, 3, 0, 2, 7, 2, 5, 5], dtype=uint8)"
      ]
     },
     "execution_count": 37,
     "metadata": {},
     "output_type": "execute_result"
    }
   ],
   "source": [
    "# to get one pixel\n",
    "# each pixel is a number between 0 and 255, therefore it is greyscale. 0 is black, 255 is white\n",
    "# it is a 2d array, 28x28\n",
    "trainImages[0,23,23]\n",
    "\n",
    "# first 10 training labels\n",
    "# from 0 to 9, representing different articles of clothing\n",
    "trainLabels[:10]"
   ]
  },
  {
   "cell_type": "code",
   "execution_count": 38,
   "metadata": {},
   "outputs": [],
   "source": [
    "classNames = [\"T-shirt\", \"Pants\", \"Pullover\", \"Dress\", \"Coat\", \"Sandal\", \"Shirt\", \"Sneaker\", \"Bag\", \"Ankle Boot\"]"
   ]
  },
  {
   "cell_type": "code",
   "execution_count": 39,
   "metadata": {},
   "outputs": [
    {
     "data": {
      "image/png": "[encoded data removed]",
      "text/plain": [
       "<Figure size 432x288 with 2 Axes>"
      ]
     },
     "metadata": {
      "needs_background": "light"
     },
     "output_type": "display_data"
    }
   ],
   "source": [
    "# lastly, we can have a look at the images\n",
    "\n",
    "plt.figure()\n",
    "plt.imshow(trainImages[1], cmap='gray', vmin=0, vmax=255)\n",
    "plt.colorbar()\n",
    "plt.show()"
   ]
  },
  {
   "cell_type": "code",
   "execution_count": 40,
   "metadata": {},
   "outputs": [],
   "source": [
    "# DATA PREPROCESSING\n",
    "\n",
    "trainImages = trainImages / 255\n",
    "testImages = testImages / 255"
   ]
  },
  {
   "cell_type": "code",
   "execution_count": 42,
   "metadata": {},
   "outputs": [],
   "source": [
    "# building the model\n",
    "# these are three layers, input, hidden, and then output\n",
    "# the input is 28x28, and there are 10 output nodes representing the choices (types of clothes)\n",
    "# the nodes are dense (all connected to all) and there are 128 nodes\n",
    "# softmax makes sure they all add up to one, and the values are all decimals\n",
    "model = keras.Sequential([\n",
    "    keras.layers.Flatten(input_shape=(28,28)),\n",
    "    keras.layers.Dense(128, activation='relu'),\n",
    "    keras.layers.Dense(10, activation='softmax')\n",
    "])"
   ]
  },
  {
   "cell_type": "code",
   "execution_count": 43,
   "metadata": {},
   "outputs": [],
   "source": [
    "# compiling the model (it just works)\n",
    "\n",
    "model.compile(\n",
    "    optimizer='adam',\n",
    "    loss='sparse_categorical_crossentropy',\n",
    "    metrics=['accuracy']\n",
    ")"
   ]
  },
  {
   "cell_type": "code",
   "execution_count": 60,
   "metadata": {},
   "outputs": [
    {
     "name": "stdout",
     "output_type": "stream",
     "text": [
      "1875/1875 [==============================] - 3s 1ms/step - loss: 0.0928 - accuracy: 0.9650\n"
     ]
    },
    {
     "data": {
      "text/plain": [
       "<keras.callbacks.History at 0x1c1b96796a0>"
      ]
     },
     "execution_count": 60,
     "metadata": {},
     "output_type": "execute_result"
    }
   ],
   "source": [
    "# training the model\n",
    "# epochs is the amount of times it goes thru the data\n",
    "model.fit(trainImages, trainLabels, epochs=1)"
   ]
  },
  {
   "cell_type": "code",
   "execution_count": 63,
   "metadata": {},
   "outputs": [
    {
     "name": "stdout",
     "output_type": "stream",
     "text": [
      "313/313 [==============================] - 0s 1ms/step - loss: 0.5504 - accuracy: 0.8835\n",
      "Test Accuracy 0.8834999799728394\n",
      "Test Loss 0.5503899455070496\n"
     ]
    }
   ],
   "source": [
    "# testing the model\n",
    "# verbose is how much is logged to the console /shrug\n",
    "testLoss, testAcc = model.evaluate(testImages, testLabels, verbose=1)\n",
    "\n",
    "print(\"Test Accuracy\", testAcc)\n",
    "print(\"Test Loss\", testLoss)\n",
    "\n",
    "# using 30 epochs, the model is \"Overfitted\", as it just memorized the data before and became not as general, we had too many epochs (accuracy = 88.55%)\n",
    "# using between 1 and 5 is actually a lot better, which is surprising as it is seeing the data and adjusting less"
   ]
  },
  {
   "cell_type": "code",
   "execution_count": 72,
   "metadata": {},
   "outputs": [
    {
     "name": "stdout",
     "output_type": "stream",
     "text": [
      "9\n",
      "Ankle Boot\n"
     ]
    },
    {
     "data": {
      "image/png": "[encoded data removed]",
      "text/plain": [
       "<Figure size 432x288 with 2 Axes>"
      ]
     },
     "metadata": {
      "needs_background": "light"
     },
     "output_type": "display_data"
    }
   ],
   "source": [
    "# getting the largest value in the list returns the index, resulting in the class of the image\n",
    "predictions = model.predict([testImages])\n",
    "print(np.argmax(predictions[0]))\n",
    "\n",
    "# this will give ankle boot...\n",
    "print(classNames[np.argmax(predictions[0])])\n",
    "\n",
    "# ... and we can check by displaying it\n",
    "plt.figure()\n",
    "plt.imshow(testImages[0])\n",
    "plt.colorbar()\n",
    "plt.show()"
   ]
  }
 ],
 "metadata": {
  "interpreter": {
   "hash": "32c23cb8ce38882dc431eab1a6efbfae3b919cddfb0b4dd849b2610d5052a715"
  },
  "kernelspec": {
   "display_name": "Python 3.9.6 64-bit",
   "language": "python",
   "name": "python3"
  },
  "language_info": {
   "codemirror_mode": {
    "name": "ipython",
    "version": 3
   },
   "file_extension": ".py",
   "mimetype": "text/x-python",
   "name": "python",
   "nbconvert_exporter": "python",
   "pygments_lexer": "ipython3",
   "version": "3.9.6"
  },
  "orig_nbformat": 4
 },
 "nbformat": 4,
 "nbformat_minor": 2
}
