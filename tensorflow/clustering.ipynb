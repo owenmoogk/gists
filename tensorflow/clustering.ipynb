{
 "cells": [
  {
   "cell_type": "code",
   "execution_count": 45,
   "metadata": {},
   "outputs": [],
   "source": [
    "import tensorflow as tf\n",
    "import tensorflow_probability as tfp\n",
    "\n",
    "# cold days = 0, hotdays = 1\n",
    "# first day has an 80% chance of being cold\n",
    "# a cold day has a 30% chance of being followed by hot\n",
    "# a hot day has a 20% chance of being followed by cold\n",
    "# temperature is distrusted between 0 and 5 on a cold day and 15 and 10 on a hot day"
   ]
  },
  {
   "cell_type": "code",
   "execution_count": 46,
   "metadata": {},
   "outputs": [],
   "source": [
    "tfd = tfp.distributions\n",
    "\n",
    "# chance of the first day being hot / cold\n",
    "initialDistribution = tfd.Categorical(probs=[0.8,0.2])\n",
    "# chance of next day based on current day\n",
    "transitionDistribution = tfd.Categorical(probs=[[0.7,0.3],[0.2,0.8]])\n",
    "\n",
    "# distributes normal temperature\n",
    "observationalDistrubution = tfd.Normal(loc=[0,15], scale=[5,10])"
   ]
  },
  {
   "cell_type": "code",
   "execution_count": 47,
   "metadata": {},
   "outputs": [],
   "source": [
    "model = tfd.HiddenMarkovModel(\n",
    "    initial_distribution = initialDistribution,\n",
    "    transition_distribution = transitionDistribution,\n",
    "    observation_distribution = observationalDistrubution,\n",
    "\n",
    "    # how many times we are going to predict the next day, and the average temperature\n",
    "    num_steps = 700\n",
    ")"
   ]
  },
  {
   "cell_type": "code",
   "execution_count": 51,
   "metadata": {},
   "outputs": [
    {
     "name": "stdout",
     "output_type": "stream",
     "text": [
      "8.999998\n"
     ]
    }
   ],
   "source": [
    "# THIS MODEL IS GOING TO PREDICT THE AVERAGE TEMPERATURE OVER A SET NUMBER OF DAYS, BASED ON THE PROBABILITIES IT IS BEING GIVEN\n",
    "# THERE IS NO MACHINE LEARNING HERE, THE RESULT WILL BE THE SAME EVERY TIME.\n",
    "\n",
    "# it will gradually proceed towards 9 degrees for this specific example\n",
    "\n",
    "mean = model.mean()\n",
    "with tf.compat.v1.Session() as session:\n",
    "    # print(mean.numpy())\n",
    "    print(mean.numpy()[-1])"
   ]
  }
 ],
 "metadata": {
  "interpreter": {
   "hash": "32c23cb8ce38882dc431eab1a6efbfae3b919cddfb0b4dd849b2610d5052a715"
  },
  "kernelspec": {
   "display_name": "Python 3.9.6 64-bit",
   "language": "python",
   "name": "python3"
  },
  "language_info": {
   "codemirror_mode": {
    "name": "ipython",
    "version": 3
   },
   "file_extension": ".py",
   "mimetype": "text/x-python",
   "name": "python",
   "nbconvert_exporter": "python",
   "pygments_lexer": "ipython3",
   "version": "3.9.6"
  },
  "orig_nbformat": 4
 },
 "nbformat": 4,
 "nbformat_minor": 2
}
